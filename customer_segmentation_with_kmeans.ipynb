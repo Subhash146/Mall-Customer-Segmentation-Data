{
  "nbformat": 4,
  "nbformat_minor": 5,
  "metadata": {
    "kernelspec": {
      "display_name": "Python 3",
      "language": "python",
      "name": "python3"
    },
    "language_info": {
      "codemirror_mode": {
        "name": "ipython",
        "version": 3
      },
      "file_extension": ".py",
      "mimetype": "text/x-python",
      "name": "python",
      "nbconvert_exporter": "python",
      "pygments_lexer": "ipython3",
      "version": "3.7.10"
    },
    "papermill": {
      "default_parameters": {},
      "duration": 11.407969,
      "end_time": "2021-09-11T06:53:11.370089",
      "environment_variables": {},
      "exception": null,
      "input_path": "__notebook__.ipynb",
      "output_path": "__notebook__.ipynb",
      "parameters": {},
      "start_time": "2021-09-11T06:52:59.962120",
      "version": "2.3.3"
    },
    "colab": {
      "name": "customer-segmentation-with-kmeans.ipynb",
      "provenance": []
    }
  },
  "cells": [
    {
      "cell_type": "markdown",
      "metadata": {
        "id": "0z6cxbFmSx2a"
      },
      "source": [
        "# **Machine Learning Project (CSPE21)**\n",
        "> Name : V. Subhash\n",
        "<br/>\n",
        "> Roll No: CSE18U028\n"
      ],
      "id": "0z6cxbFmSx2a"
    },
    {
      "cell_type": "markdown",
      "metadata": {
        "id": "0pYG2knhTk4I"
      },
      "source": [
        "## Customer Segmentation With KMeans"
      ],
      "id": "0pYG2knhTk4I"
    },
    {
      "cell_type": "code",
      "metadata": {
        "_cell_guid": "b1076dfc-b9ad-4769-8c92-a6c4dae69d19",
        "_uuid": "8f2839f25d086af736a60e9eeb907d3b93b6e0e5",
        "execution": {
          "iopub.execute_input": "2021-09-11T06:53:07.938779Z",
          "iopub.status.busy": "2021-09-11T06:53:07.931602Z",
          "iopub.status.idle": "2021-09-11T06:53:08.779996Z",
          "shell.execute_reply": "2021-09-11T06:53:08.780611Z",
          "shell.execute_reply.started": "2021-09-11T06:50:48.705853Z"
        },
        "papermill": {
          "duration": 0.863283,
          "end_time": "2021-09-11T06:53:08.780946",
          "exception": false,
          "start_time": "2021-09-11T06:53:07.917663",
          "status": "completed"
        },
        "tags": [],
        "id": "576b1bab"
      },
      "source": [
        "import numpy as np\n",
        "import pandas as pd\n",
        "import matplotlib.pyplot as plt\n",
        "import seaborn as sns"
      ],
      "id": "576b1bab",
      "execution_count": 1,
      "outputs": []
    },
    {
      "cell_type": "code",
      "metadata": {
        "execution": {
          "iopub.execute_input": "2021-09-11T06:53:08.807041Z",
          "iopub.status.busy": "2021-09-11T06:53:08.806330Z",
          "iopub.status.idle": "2021-09-11T06:53:08.843957Z",
          "shell.execute_reply": "2021-09-11T06:53:08.844532Z",
          "shell.execute_reply.started": "2021-09-11T06:50:49.642551Z"
        },
        "papermill": {
          "duration": 0.051572,
          "end_time": "2021-09-11T06:53:08.844776",
          "exception": false,
          "start_time": "2021-09-11T06:53:08.793204",
          "status": "completed"
        },
        "tags": [],
        "colab": {
          "base_uri": "https://localhost:8080/",
          "height": 206
        },
        "id": "1c255c22",
        "outputId": "d164f0ee-f56c-44f0-b244-c20327426ca4"
      },
      "source": [
        "df = pd.read_csv('https://raw.githubusercontent.com/SteffiPeTaffy/machineLearningAZ/master/Machine%20Learning%20A-Z%20Template%20Folder/Part%204%20-%20Clustering/Section%2025%20-%20Hierarchical%20Clustering/Mall_Customers.csv')\n",
        "df.head()"
      ],
      "id": "1c255c22",
      "execution_count": 2,
      "outputs": [
        {
          "output_type": "execute_result",
          "data": {
            "text/html": [
              "<div>\n",
              "<style scoped>\n",
              "    .dataframe tbody tr th:only-of-type {\n",
              "        vertical-align: middle;\n",
              "    }\n",
              "\n",
              "    .dataframe tbody tr th {\n",
              "        vertical-align: top;\n",
              "    }\n",
              "\n",
              "    .dataframe thead th {\n",
              "        text-align: right;\n",
              "    }\n",
              "</style>\n",
              "<table border=\"1\" class=\"dataframe\">\n",
              "  <thead>\n",
              "    <tr style=\"text-align: right;\">\n",
              "      <th></th>\n",
              "      <th>CustomerID</th>\n",
              "      <th>Genre</th>\n",
              "      <th>Age</th>\n",
              "      <th>Annual Income (k$)</th>\n",
              "      <th>Spending Score (1-100)</th>\n",
              "    </tr>\n",
              "  </thead>\n",
              "  <tbody>\n",
              "    <tr>\n",
              "      <th>0</th>\n",
              "      <td>1</td>\n",
              "      <td>Male</td>\n",
              "      <td>19</td>\n",
              "      <td>15</td>\n",
              "      <td>39</td>\n",
              "    </tr>\n",
              "    <tr>\n",
              "      <th>1</th>\n",
              "      <td>2</td>\n",
              "      <td>Male</td>\n",
              "      <td>21</td>\n",
              "      <td>15</td>\n",
              "      <td>81</td>\n",
              "    </tr>\n",
              "    <tr>\n",
              "      <th>2</th>\n",
              "      <td>3</td>\n",
              "      <td>Female</td>\n",
              "      <td>20</td>\n",
              "      <td>16</td>\n",
              "      <td>6</td>\n",
              "    </tr>\n",
              "    <tr>\n",
              "      <th>3</th>\n",
              "      <td>4</td>\n",
              "      <td>Female</td>\n",
              "      <td>23</td>\n",
              "      <td>16</td>\n",
              "      <td>77</td>\n",
              "    </tr>\n",
              "    <tr>\n",
              "      <th>4</th>\n",
              "      <td>5</td>\n",
              "      <td>Female</td>\n",
              "      <td>31</td>\n",
              "      <td>17</td>\n",
              "      <td>40</td>\n",
              "    </tr>\n",
              "  </tbody>\n",
              "</table>\n",
              "</div>"
            ],
            "text/plain": [
              "   CustomerID   Genre  Age  Annual Income (k$)  Spending Score (1-100)\n",
              "0           1    Male   19                  15                      39\n",
              "1           2    Male   21                  15                      81\n",
              "2           3  Female   20                  16                       6\n",
              "3           4  Female   23                  16                      77\n",
              "4           5  Female   31                  17                      40"
            ]
          },
          "metadata": {},
          "execution_count": 2
        }
      ]
    },
    {
      "cell_type": "code",
      "metadata": {
        "execution": {
          "iopub.execute_input": "2021-09-11T06:53:08.875438Z",
          "iopub.status.busy": "2021-09-11T06:53:08.874454Z",
          "iopub.status.idle": "2021-09-11T06:53:08.885285Z",
          "shell.execute_reply": "2021-09-11T06:53:08.884721Z",
          "shell.execute_reply.started": "2021-09-11T06:51:47.118676Z"
        },
        "papermill": {
          "duration": 0.026271,
          "end_time": "2021-09-11T06:53:08.885435",
          "exception": false,
          "start_time": "2021-09-11T06:53:08.859164",
          "status": "completed"
        },
        "tags": [],
        "id": "3f533407"
      },
      "source": [
        "# menghapus kolom\n",
        "df = df.drop(columns=(['CustomerID', 'Genre']))"
      ],
      "id": "3f533407",
      "execution_count": 3,
      "outputs": []
    },
    {
      "cell_type": "code",
      "metadata": {
        "execution": {
          "iopub.execute_input": "2021-09-11T06:53:08.911671Z",
          "iopub.status.busy": "2021-09-11T06:53:08.911057Z",
          "iopub.status.idle": "2021-09-11T06:53:08.914091Z",
          "shell.execute_reply": "2021-09-11T06:53:08.913463Z",
          "shell.execute_reply.started": "2021-09-11T06:52:05.271223Z"
        },
        "papermill": {
          "duration": 0.01928,
          "end_time": "2021-09-11T06:53:08.914229",
          "exception": false,
          "start_time": "2021-09-11T06:53:08.894949",
          "status": "completed"
        },
        "tags": [],
        "id": "1be11d35"
      },
      "source": [
        "# mengubah nama kolom\n",
        "df = df.rename(columns={\n",
        "    'Age' : 'age', \n",
        "    'Annual Income (k$)': 'annual_income',\n",
        "    'Spending Score (1-100)': 'spending_score'\n",
        "})"
      ],
      "id": "1be11d35",
      "execution_count": 4,
      "outputs": []
    },
    {
      "cell_type": "code",
      "metadata": {
        "execution": {
          "iopub.execute_input": "2021-09-11T06:53:08.937054Z",
          "iopub.status.busy": "2021-09-11T06:53:08.936095Z",
          "iopub.status.idle": "2021-09-11T06:53:08.946613Z",
          "shell.execute_reply": "2021-09-11T06:53:08.947125Z",
          "shell.execute_reply.started": "2021-09-11T06:52:28.333193Z"
        },
        "papermill": {
          "duration": 0.023506,
          "end_time": "2021-09-11T06:53:08.947295",
          "exception": false,
          "start_time": "2021-09-11T06:53:08.923789",
          "status": "completed"
        },
        "tags": [],
        "colab": {
          "base_uri": "https://localhost:8080/",
          "height": 423
        },
        "id": "18f04893",
        "outputId": "8523893a-0230-42cf-c537-19d99f0b4be1"
      },
      "source": [
        "X = df\n",
        "X"
      ],
      "id": "18f04893",
      "execution_count": 5,
      "outputs": [
        {
          "output_type": "execute_result",
          "data": {
            "text/html": [
              "<div>\n",
              "<style scoped>\n",
              "    .dataframe tbody tr th:only-of-type {\n",
              "        vertical-align: middle;\n",
              "    }\n",
              "\n",
              "    .dataframe tbody tr th {\n",
              "        vertical-align: top;\n",
              "    }\n",
              "\n",
              "    .dataframe thead th {\n",
              "        text-align: right;\n",
              "    }\n",
              "</style>\n",
              "<table border=\"1\" class=\"dataframe\">\n",
              "  <thead>\n",
              "    <tr style=\"text-align: right;\">\n",
              "      <th></th>\n",
              "      <th>age</th>\n",
              "      <th>annual_income</th>\n",
              "      <th>spending_score</th>\n",
              "    </tr>\n",
              "  </thead>\n",
              "  <tbody>\n",
              "    <tr>\n",
              "      <th>0</th>\n",
              "      <td>19</td>\n",
              "      <td>15</td>\n",
              "      <td>39</td>\n",
              "    </tr>\n",
              "    <tr>\n",
              "      <th>1</th>\n",
              "      <td>21</td>\n",
              "      <td>15</td>\n",
              "      <td>81</td>\n",
              "    </tr>\n",
              "    <tr>\n",
              "      <th>2</th>\n",
              "      <td>20</td>\n",
              "      <td>16</td>\n",
              "      <td>6</td>\n",
              "    </tr>\n",
              "    <tr>\n",
              "      <th>3</th>\n",
              "      <td>23</td>\n",
              "      <td>16</td>\n",
              "      <td>77</td>\n",
              "    </tr>\n",
              "    <tr>\n",
              "      <th>4</th>\n",
              "      <td>31</td>\n",
              "      <td>17</td>\n",
              "      <td>40</td>\n",
              "    </tr>\n",
              "    <tr>\n",
              "      <th>...</th>\n",
              "      <td>...</td>\n",
              "      <td>...</td>\n",
              "      <td>...</td>\n",
              "    </tr>\n",
              "    <tr>\n",
              "      <th>195</th>\n",
              "      <td>35</td>\n",
              "      <td>120</td>\n",
              "      <td>79</td>\n",
              "    </tr>\n",
              "    <tr>\n",
              "      <th>196</th>\n",
              "      <td>45</td>\n",
              "      <td>126</td>\n",
              "      <td>28</td>\n",
              "    </tr>\n",
              "    <tr>\n",
              "      <th>197</th>\n",
              "      <td>32</td>\n",
              "      <td>126</td>\n",
              "      <td>74</td>\n",
              "    </tr>\n",
              "    <tr>\n",
              "      <th>198</th>\n",
              "      <td>32</td>\n",
              "      <td>137</td>\n",
              "      <td>18</td>\n",
              "    </tr>\n",
              "    <tr>\n",
              "      <th>199</th>\n",
              "      <td>30</td>\n",
              "      <td>137</td>\n",
              "      <td>83</td>\n",
              "    </tr>\n",
              "  </tbody>\n",
              "</table>\n",
              "<p>200 rows × 3 columns</p>\n",
              "</div>"
            ],
            "text/plain": [
              "     age  annual_income  spending_score\n",
              "0     19             15              39\n",
              "1     21             15              81\n",
              "2     20             16               6\n",
              "3     23             16              77\n",
              "4     31             17              40\n",
              "..   ...            ...             ...\n",
              "195   35            120              79\n",
              "196   45            126              28\n",
              "197   32            126              74\n",
              "198   32            137              18\n",
              "199   30            137              83\n",
              "\n",
              "[200 rows x 3 columns]"
            ]
          },
          "metadata": {},
          "execution_count": 5
        }
      ]
    },
    {
      "cell_type": "code",
      "metadata": {
        "execution": {
          "iopub.execute_input": "2021-09-11T06:53:08.971170Z",
          "iopub.status.busy": "2021-09-11T06:53:08.970203Z",
          "iopub.status.idle": "2021-09-11T06:53:09.345697Z",
          "shell.execute_reply": "2021-09-11T06:53:09.345168Z",
          "shell.execute_reply.started": "2021-09-11T06:52:28.976273Z"
        },
        "papermill": {
          "duration": 0.388572,
          "end_time": "2021-09-11T06:53:09.345862",
          "exception": false,
          "start_time": "2021-09-11T06:53:08.957290",
          "status": "completed"
        },
        "tags": [],
        "id": "0a555c92"
      },
      "source": [
        "from sklearn.cluster import KMeans"
      ],
      "id": "0a555c92",
      "execution_count": 6,
      "outputs": []
    },
    {
      "cell_type": "code",
      "metadata": {
        "execution": {
          "iopub.execute_input": "2021-09-11T06:53:09.373924Z",
          "iopub.status.busy": "2021-09-11T06:53:09.372980Z",
          "iopub.status.idle": "2021-09-11T06:53:09.891310Z",
          "shell.execute_reply": "2021-09-11T06:53:09.890636Z",
          "shell.execute_reply.started": "2021-09-11T06:52:29.757738Z"
        },
        "papermill": {
          "duration": 0.535229,
          "end_time": "2021-09-11T06:53:09.891455",
          "exception": false,
          "start_time": "2021-09-11T06:53:09.356226",
          "status": "completed"
        },
        "tags": [],
        "id": "ebc5181b"
      },
      "source": [
        "cluster = []\n",
        "for k in range (1, 11):\n",
        "    kmean = KMeans(n_clusters=k).fit(X)\n",
        "    cluster.append(kmean.inertia_)"
      ],
      "id": "ebc5181b",
      "execution_count": 7,
      "outputs": []
    },
    {
      "cell_type": "code",
      "metadata": {
        "execution": {
          "iopub.execute_input": "2021-09-11T06:53:09.984286Z",
          "iopub.status.busy": "2021-09-11T06:53:09.946800Z",
          "iopub.status.idle": "2021-09-11T06:53:10.147106Z",
          "shell.execute_reply": "2021-09-11T06:53:10.147618Z",
          "shell.execute_reply.started": "2021-09-11T06:52:37.018790Z"
        },
        "papermill": {
          "duration": 0.24606,
          "end_time": "2021-09-11T06:53:10.147787",
          "exception": false,
          "start_time": "2021-09-11T06:53:09.901727",
          "status": "completed"
        },
        "tags": [],
        "colab": {
          "base_uri": "https://localhost:8080/",
          "height": 497
        },
        "id": "55dcd648",
        "outputId": "0558d119-90b3-4d02-cb18-82876ded3975"
      },
      "source": [
        "plt.figure(figsize=(12, 8))\n",
        "plt.plot(range(1, 11), cluster, 'r-')\n",
        "plt.xlabel('Inertia')\n",
        "plt.ylabel('n_cluster')\n",
        "plt.show()"
      ],
      "id": "55dcd648",
      "execution_count": 8,
      "outputs": [
        {
          "output_type": "display_data",
          "data": {
            "image/png": "[encoded data removed]",
            "text/plain": [
              "<Figure size 864x576 with 1 Axes>"
            ]
          },
          "metadata": {
            "needs_background": "light"
          }
        }
      ]
    },
    {
      "cell_type": "code",
      "metadata": {
        "execution": {
          "iopub.execute_input": "2021-09-11T06:53:10.177284Z",
          "iopub.status.busy": "2021-09-11T06:53:10.176627Z",
          "iopub.status.idle": "2021-09-11T06:53:10.620475Z",
          "shell.execute_reply": "2021-09-11T06:53:10.619948Z",
          "shell.execute_reply.started": "2021-09-11T06:52:42.743812Z"
        },
        "papermill": {
          "duration": 0.461818,
          "end_time": "2021-09-11T06:53:10.620621",
          "exception": false,
          "start_time": "2021-09-11T06:53:10.158803",
          "status": "completed"
        },
        "tags": [],
        "colab": {
          "base_uri": "https://localhost:8080/",
          "height": 553
        },
        "id": "d8bc1b89",
        "outputId": "7611bb69-fc62-485a-9881-a8f6f2295bdf"
      },
      "source": [
        "km = KMeans(n_clusters=5).fit(X)\n",
        "\n",
        "# menambah kolom baru pada datasets\n",
        "X['Labels'] = km.labels_\n",
        "\n",
        "plt.figure(figsize=(12, 8))\n",
        "sns.scatterplot(X['annual_income'], X['spending_score'], hue=X['Labels'], palette=sns.color_palette('hls', 5))\n",
        "plt.show()"
      ],
      "id": "d8bc1b89",
      "execution_count": 9,
      "outputs": [
        {
          "output_type": "stream",
          "name": "stderr",
          "text": [
            "/usr/local/lib/python3.7/dist-packages/seaborn/_decorators.py:43: FutureWarning: Pass the following variables as keyword args: x, y. From version 0.12, the only valid positional argument will be `data`, and passing other arguments without an explicit keyword will result in an error or misinterpretation.\n",
            "  FutureWarning\n"
          ]
        },
        {
          "output_type": "display_data",
          "data": {
            "image/png": "[encoded data removed]",
            "text/plain": [
              "<Figure size 864x576 with 1 Axes>"
            ]
          },
          "metadata": {
            "needs_background": "light"
          }
        }
      ]
    },
    {
      "cell_type": "code",
      "metadata": {
        "papermill": {
          "duration": 0.01276,
          "end_time": "2021-09-11T06:53:10.646883",
          "exception": false,
          "start_time": "2021-09-11T06:53:10.634123",
          "status": "completed"
        },
        "tags": [],
        "id": "0b6138f8"
      },
      "source": [
        ""
      ],
      "id": "0b6138f8",
      "execution_count": 9,
      "outputs": []
    }
  ]
}